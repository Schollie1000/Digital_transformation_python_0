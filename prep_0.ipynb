{
 "cells": [
  {
   "cell_type": "code",
   "execution_count": 2,
   "metadata": {},
   "outputs": [],
   "source": [
    "import csv\n",
    "import numpy as np\n",
    "from scipy.signal import lsim, TransferFunction\n",
    "\n",
    "# Constants\n",
    "NUM_SAMPLES = 500\n",
    "TOTAL_TIME = 5.0  # seconds\n",
    "STEP_CHANGE_TIME = 1.0  # seconds\n",
    "STEP_VALUE = 10\n",
    "SETTLING_TIME = 3.0  # seconds\n",
    "\n",
    "# 1. Time vector\n",
    "time = np.linspace(0, TOTAL_TIME, NUM_SAMPLES)\n",
    "\n",
    "# 2. Step function\n",
    "step_function = np.where(time >= STEP_CHANGE_TIME, STEP_VALUE, 0)\n",
    "\n",
    "# 3. PT2 behavior\n",
    "# Calculate omega based on the desired settling time\n",
    "zeta = 0.4  # A value less than 1 to ensure oscillations\n",
    "omega_n = 4 / (zeta * SETTLING_TIME)\n",
    "system = TransferFunction([omega_n**2], [1, 2*zeta*omega_n, omega_n**2])\n",
    "_, pt2_response, _ = lsim(system, step_function, time)\n",
    "\n",
    "# Create CSV\n",
    "with open('data.csv', 'w', newline='') as file:\n",
    "    writer = csv.writer(file)\n",
    "    writer.writerow([\"Time\", \"Step Function\", \"PT2\"])\n",
    "    for t, s, p in zip(time, step_function, pt2_response):\n",
    "        writer.writerow([t, s, p])\n"
   ]
  }
 ],
 "metadata": {
  "kernelspec": {
   "display_name": "pythonprojects",
   "language": "python",
   "name": "python3"
  },
  "language_info": {
   "codemirror_mode": {
    "name": "ipython",
    "version": 3
   },
   "file_extension": ".py",
   "mimetype": "text/x-python",
   "name": "python",
   "nbconvert_exporter": "python",
   "pygments_lexer": "ipython3",
   "version": "3.8.3"
  },
  "orig_nbformat": 4
 },
 "nbformat": 4,
 "nbformat_minor": 2
}
